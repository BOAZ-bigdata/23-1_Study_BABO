{
 "cells": [
  {
   "cell_type": "markdown",
   "metadata": {},
   "source": [
    "### 럭키스트레이트 문제"
   ]
  },
  {
   "cell_type": "code",
   "execution_count": null,
   "metadata": {},
   "outputs": [],
   "source": [
    "N= int(input())\n",
    "\n",
    "# String 형식으로 바꾸고 n/2 추출하기\n",
    "number_str = str(N)\n",
    "length = len(str(N)) // 2\n",
    "first = int(number_str[:length])\n",
    "last = int(number_str[-length:])\n",
    "\n",
    "#둘이 길이 맞는지 확인하기\n",
    "if sum(map(int, str(first))) == sum(map(int, str(last))):\n",
    "    print(\"Lucky\")\n",
    "else:\n",
    "    print(\"Ready\")"
   ]
  },
  {
   "cell_type": "code",
   "execution_count": null,
   "metadata": {},
   "outputs": [],
   "source": []
  }
 ],
 "metadata": {
  "kernelspec": {
   "display_name": "Python 3",
   "language": "python",
   "name": "python3"
  },
  "language_info": {
   "codemirror_mode": {
    "name": "ipython",
    "version": 3
   },
   "file_extension": ".py",
   "mimetype": "text/x-python",
   "name": "python",
   "nbconvert_exporter": "python",
   "pygments_lexer": "ipython3",
   "version": "3.8.3"
  }
 },
 "nbformat": 4,
 "nbformat_minor": 4
}
