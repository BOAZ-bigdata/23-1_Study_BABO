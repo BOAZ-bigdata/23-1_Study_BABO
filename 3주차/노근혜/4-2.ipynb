{
 "cells": [
  {
   "cell_type": "markdown",
   "metadata": {},
   "source": [
    "# 문제풀이 핵심아이디어 또는 새롭게 알게된 내용:  완전 탐색 유형"
   ]
  },
  {
   "cell_type": "markdown",
   "metadata": {},
   "source": [
    "  # 코드의 시간복잡도와 그 이유: O(N^3) : 3중 for 문이므로"
   ]
  },
  {
   "cell_type": "code",
   "execution_count": 1,
   "metadata": {},
   "outputs": [
    {
     "name": "stdout",
     "output_type": "stream",
     "text": [
      "20\n",
      "32220\n"
     ]
    }
   ],
   "source": [
    "h = int(input())\n",
    "\n",
    "count=0\n",
    "for i in range(h+1): \n",
    "  for j in range(50): \n",
    "    for k in range(60):\n",
    "      if '3' in str(i)+str(j)+str(k):\n",
    "        count+=1\n",
    "print(count)\n",
    "\n",
    "O(N^3) : 3중 for 문으로 전체 반복 횟수 N x 60 x 60"
   ]
  }
 ],
 "metadata": {
  "kernelspec": {
   "display_name": "Python 3",
   "language": "python",
   "name": "python3"
  },
  "language_info": {
   "codemirror_mode": {
    "name": "ipython",
    "version": 3
   },
   "file_extension": ".py",
   "mimetype": "text/x-python",
   "name": "python",
   "nbconvert_exporter": "python",
   "pygments_lexer": "ipython3",
   "version": "3.8.3"
  }
 },
 "nbformat": 4,
 "nbformat_minor": 4
}
