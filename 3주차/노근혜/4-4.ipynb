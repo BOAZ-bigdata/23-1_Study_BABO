{
 "cells": [
  {
   "cell_type": "markdown",
   "metadata": {},
   "source": [
    "### 문제풀이 핵심아이디어 또는 새롭게 알게된 내용"
   ]
  },
  {
   "cell_type": "code",
   "execution_count": null,
   "metadata": {},
   "outputs": [],
   "source": [
    "else를 이용하여 앞뒤로 이동하는 방법 그리고 문제 상황을 세분화하여 생각하는 방법"
   ]
  },
  {
   "cell_type": "markdown",
   "metadata": {},
   "source": [
    "### 코드의 시간복잡도와 그 이유"
   ]
  },
  {
   "cell_type": "code",
   "execution_count": null,
   "metadata": {},
   "outputs": [],
   "source": [
    "O(nm) : 외부 반복문 n번, 내부 반복문 m번 실행되므로"
   ]
  },
  {
   "cell_type": "markdown",
   "metadata": {},
   "source": [
    "### 주석이 가득 담긴 코드"
   ]
  },
  {
   "cell_type": "code",
   "execution_count": null,
   "metadata": {},
   "outputs": [],
   "source": [
    "n,m=map(int, input().split()) #공백으로 구분하여 입력 \n",
    "\n",
    "d=[[0]*m for _ in range(n)] #맵을 생성하여 0으로 초기화 -> 방문 위치 파악\n",
    "x,y,direction=map(int, input().split()) #캐릭터의 방향 받기 \n",
    "d[x][y]=1\n",
    "\n",
    "array=[]\n",
    "for i in range(n):\n",
    "    array.append(list(map(int,input().split())))\n",
    "\n",
    "dx=[-1,0,1,0]\n",
    "dy = [0, 1, 0, -1]\n",
    "\n",
    "def turn_left():\n",
    "    global_direction\n",
    "    direction -= 1\n",
    "    if direction == -1 : \n",
    "        direction =3 \n",
    "count=1\n",
    "turn_time=0\n",
    "while True: \n",
    "    turn_left()\n",
    "    nx=x+dx[direction]\n",
    "    ny=y+dy[direction]\n",
    "    if d[nx][ny]==0 and array[nx][ny]==0: #회전 이후에 정면에 가보지 않은 칸이 있을 때 \n",
    "        d[nx][ny]=1\n",
    "        x=nx\n",
    "        y=ny\n",
    "        count +=1\n",
    "        turn_time=0\n",
    "        continue\n",
    "    else: #회전 이후에 앞으로 나아갈 수 없을 때 (바다, 끝)\n",
    "        turn_time +=1\n",
    "    if turn_time==4: \n",
    "        nx = x - dx[direction]\n",
    "        ny = y - dy[direction]\n",
    "        if array[nx][ny] = = 0: #뒤로 이동하기 \n",
    "            x = nx\n",
    "            y = ny\n",
    "        else: #뒤로 이동하기에 대한 else, 뒤가 바다로 막혀있어서 못가는 경우 \n",
    "             break\n",
    "        turn_time = 0\n",
    "        \n",
    "print(count)"
   ]
  }
 ],
 "metadata": {
  "kernelspec": {
   "display_name": "Python 3",
   "language": "python",
   "name": "python3"
  },
  "language_info": {
   "codemirror_mode": {
    "name": "ipython",
    "version": 3
   },
   "file_extension": ".py",
   "mimetype": "text/x-python",
   "name": "python",
   "nbconvert_exporter": "python",
   "pygments_lexer": "ipython3",
   "version": "3.8.3"
  }
 },
 "nbformat": 4,
 "nbformat_minor": 4
}
